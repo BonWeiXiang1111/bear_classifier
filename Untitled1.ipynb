{
 "cells": [
  {
   "cell_type": "code",
   "execution_count": 22,
   "id": "38639fd2",
   "metadata": {},
   "outputs": [],
   "source": [
    "from fastai.vision.all import *\n",
    "from fastai.vision.widgets import *"
   ]
  },
  {
   "cell_type": "markdown",
   "id": "1a255e54",
   "metadata": {},
   "source": [
    "# Bear Classifier\n",
    "\n",
    "It is a bear classifier which helps to identify black, However, it will not work on other types of bear"
   ]
  },
  {
   "cell_type": "code",
   "execution_count": 23,
   "id": "bb54a0c4",
   "metadata": {},
   "outputs": [],
   "source": [
    "import pathlib\n",
    "\n",
    "plt = platform.system()\n",
    "if plt == 'Linux':\n",
    "    pathlib.WindowsPath = pathlib.PosixPath"
   ]
  },
  {
   "cell_type": "code",
   "execution_count": 24,
   "id": "32721919",
   "metadata": {},
   "outputs": [],
   "source": [
    "path = Path()\n",
    "upload_button = widgets.FileUpload()\n",
    "output = widgets.Output()\n",
    "prediction_label = widgets.Label()"
   ]
  },
  {
   "cell_type": "code",
   "execution_count": 25,
   "id": "9a1ad92c",
   "metadata": {},
   "outputs": [],
   "source": [
    "learn_inf = load_learner(path/'export.pkl', cpu = True)"
   ]
  },
  {
   "cell_type": "code",
   "execution_count": 26,
   "id": "fae6b4e1",
   "metadata": {},
   "outputs": [],
   "source": [
    "def on_data_change(change):\n",
    "    prediction_label.value = \"\"\n",
    "    img = PILImage.create(upload_button.data[0])\n",
    "    output.clear_output()\n",
    "    with output:\n",
    "        display(img.to_thumb(128))\n",
    "    pred, pred_idx, probs = learn_inf.predict(img)\n",
    "    prediction_label.value = f\"Prediction: {pred}; Probability: {probs[pred_idx]:.04f}\""
   ]
  },
  {
   "cell_type": "code",
   "execution_count": 27,
   "id": "b11fe1c8",
   "metadata": {},
   "outputs": [],
   "source": [
    "upload_button.observe(on_data_change, names = ['data'])"
   ]
  },
  {
   "cell_type": "code",
   "execution_count": 28,
   "id": "58de8886",
   "metadata": {},
   "outputs": [
    {
     "data": {
      "application/vnd.jupyter.widget-view+json": {
       "model_id": "c4f37ea2e34647798f6c27db3b36215b",
       "version_major": 2,
       "version_minor": 0
      },
      "text/plain": [
       "VBox(children=(Label(value='Selecte Yout Bear!!!'), FileUpload(value={}, description='Upload'), Output(), Labe…"
      ]
     },
     "metadata": {},
     "output_type": "display_data"
    },
    {
     "data": {
      "text/html": [
       "\n",
       "<style>\n",
       "    /* Turns off some styling */\n",
       "    progress {\n",
       "        /* gets rid of default border in Firefox and Opera. */\n",
       "        border: none;\n",
       "        /* Needs to be in here for Safari polyfill so background images work as expected. */\n",
       "        background-size: auto;\n",
       "    }\n",
       "    .progress-bar-interrupted, .progress-bar-interrupted::-webkit-progress-bar {\n",
       "        background: #F44336;\n",
       "    }\n",
       "</style>\n"
      ],
      "text/plain": [
       "<IPython.core.display.HTML object>"
      ]
     },
     "metadata": {},
     "output_type": "display_data"
    },
    {
     "data": {
      "text/html": [],
      "text/plain": [
       "<IPython.core.display.HTML object>"
      ]
     },
     "metadata": {},
     "output_type": "display_data"
    }
   ],
   "source": [
    "(VBox([widgets.Label(\"Selecte Yout Bear!!!\"),\n",
    "     upload_button,\n",
    "     output,\n",
    "     prediction_label]))"
   ]
  }
 ],
 "metadata": {
  "kernelspec": {
   "display_name": "Python 3",
   "language": "python",
   "name": "python3"
  },
  "language_info": {
   "codemirror_mode": {
    "name": "ipython",
    "version": 3
   },
   "file_extension": ".py",
   "mimetype": "text/x-python",
   "name": "python",
   "nbconvert_exporter": "python",
   "pygments_lexer": "ipython3",
   "version": "3.8.13"
  }
 },
 "nbformat": 4,
 "nbformat_minor": 5
}
